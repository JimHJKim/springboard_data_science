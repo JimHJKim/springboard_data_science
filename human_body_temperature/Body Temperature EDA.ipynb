{
 "cells": [
  {
   "cell_type": "markdown",
   "metadata": {},
   "source": [
    "# What is the True Normal Human Body Temperature? \n",
    "\n",
    "#### Background\n",
    "\n",
    "The mean normal body temperature was held to be 37$^{\\circ}$C or 98.6$^{\\circ}$F for more than 120 years since it was first conceptualized and reported by Carl Wunderlich in a famous 1868 book. But, is this value statistically correct?\n",
    "\n",
    "***"
   ]
  },
  {
   "cell_type": "code",
   "execution_count": 54,
   "metadata": {},
   "outputs": [],
   "source": [
    "import pandas as pd\n",
    "import numpy as np\n",
    "\n",
    "import matplotlib.pyplot as plt\n",
    "import seaborn as sns\n",
    "import warnings\n",
    "warnings.filterwarnings('ignore')\n",
    "%matplotlib inline\n",
    "\n",
    "df = pd.read_csv('data/human_body_temperature.csv')"
   ]
  },
  {
   "cell_type": "code",
   "execution_count": 55,
   "metadata": {},
   "outputs": [
    {
     "data": {
      "text/html": [
       "<div>\n",
       "<style scoped>\n",
       "    .dataframe tbody tr th:only-of-type {\n",
       "        vertical-align: middle;\n",
       "    }\n",
       "\n",
       "    .dataframe tbody tr th {\n",
       "        vertical-align: top;\n",
       "    }\n",
       "\n",
       "    .dataframe thead th {\n",
       "        text-align: right;\n",
       "    }\n",
       "</style>\n",
       "<table border=\"1\" class=\"dataframe\">\n",
       "  <thead>\n",
       "    <tr style=\"text-align: right;\">\n",
       "      <th></th>\n",
       "      <th>temperature</th>\n",
       "      <th>gender</th>\n",
       "      <th>heart_rate</th>\n",
       "    </tr>\n",
       "  </thead>\n",
       "  <tbody>\n",
       "    <tr>\n",
       "      <th>0</th>\n",
       "      <td>99.3</td>\n",
       "      <td>F</td>\n",
       "      <td>68.0</td>\n",
       "    </tr>\n",
       "    <tr>\n",
       "      <th>1</th>\n",
       "      <td>98.4</td>\n",
       "      <td>F</td>\n",
       "      <td>81.0</td>\n",
       "    </tr>\n",
       "    <tr>\n",
       "      <th>2</th>\n",
       "      <td>97.8</td>\n",
       "      <td>M</td>\n",
       "      <td>73.0</td>\n",
       "    </tr>\n",
       "    <tr>\n",
       "      <th>3</th>\n",
       "      <td>99.2</td>\n",
       "      <td>F</td>\n",
       "      <td>66.0</td>\n",
       "    </tr>\n",
       "    <tr>\n",
       "      <th>4</th>\n",
       "      <td>98.0</td>\n",
       "      <td>F</td>\n",
       "      <td>73.0</td>\n",
       "    </tr>\n",
       "  </tbody>\n",
       "</table>\n",
       "</div>"
      ],
      "text/plain": [
       "   temperature gender  heart_rate\n",
       "0         99.3      F        68.0\n",
       "1         98.4      F        81.0\n",
       "2         97.8      M        73.0\n",
       "3         99.2      F        66.0\n",
       "4         98.0      F        73.0"
      ]
     },
     "execution_count": 55,
     "metadata": {},
     "output_type": "execute_result"
    }
   ],
   "source": [
    "# view dataframe\n",
    "df.head()"
   ]
  },
  {
   "cell_type": "code",
   "execution_count": 56,
   "metadata": {},
   "outputs": [
    {
     "data": {
      "text/html": [
       "<div>\n",
       "<style scoped>\n",
       "    .dataframe tbody tr th:only-of-type {\n",
       "        vertical-align: middle;\n",
       "    }\n",
       "\n",
       "    .dataframe tbody tr th {\n",
       "        vertical-align: top;\n",
       "    }\n",
       "\n",
       "    .dataframe thead th {\n",
       "        text-align: right;\n",
       "    }\n",
       "</style>\n",
       "<table border=\"1\" class=\"dataframe\">\n",
       "  <thead>\n",
       "    <tr style=\"text-align: right;\">\n",
       "      <th></th>\n",
       "      <th>temperature</th>\n",
       "      <th>heart_rate</th>\n",
       "    </tr>\n",
       "  </thead>\n",
       "  <tbody>\n",
       "    <tr>\n",
       "      <th>count</th>\n",
       "      <td>130.000000</td>\n",
       "      <td>130.000000</td>\n",
       "    </tr>\n",
       "    <tr>\n",
       "      <th>mean</th>\n",
       "      <td>98.249231</td>\n",
       "      <td>73.761538</td>\n",
       "    </tr>\n",
       "    <tr>\n",
       "      <th>std</th>\n",
       "      <td>0.733183</td>\n",
       "      <td>7.062077</td>\n",
       "    </tr>\n",
       "    <tr>\n",
       "      <th>min</th>\n",
       "      <td>96.300000</td>\n",
       "      <td>57.000000</td>\n",
       "    </tr>\n",
       "    <tr>\n",
       "      <th>25%</th>\n",
       "      <td>97.800000</td>\n",
       "      <td>69.000000</td>\n",
       "    </tr>\n",
       "    <tr>\n",
       "      <th>50%</th>\n",
       "      <td>98.300000</td>\n",
       "      <td>74.000000</td>\n",
       "    </tr>\n",
       "    <tr>\n",
       "      <th>75%</th>\n",
       "      <td>98.700000</td>\n",
       "      <td>79.000000</td>\n",
       "    </tr>\n",
       "    <tr>\n",
       "      <th>max</th>\n",
       "      <td>100.800000</td>\n",
       "      <td>89.000000</td>\n",
       "    </tr>\n",
       "  </tbody>\n",
       "</table>\n",
       "</div>"
      ],
      "text/plain": [
       "       temperature  heart_rate\n",
       "count   130.000000  130.000000\n",
       "mean     98.249231   73.761538\n",
       "std       0.733183    7.062077\n",
       "min      96.300000   57.000000\n",
       "25%      97.800000   69.000000\n",
       "50%      98.300000   74.000000\n",
       "75%      98.700000   79.000000\n",
       "max     100.800000   89.000000"
      ]
     },
     "execution_count": 56,
     "metadata": {},
     "output_type": "execute_result"
    }
   ],
   "source": [
    "# basic statistics on dataframe\n",
    "df.describe()"
   ]
  },
  {
   "cell_type": "code",
   "execution_count": 57,
   "metadata": {},
   "outputs": [
    {
     "name": "stdout",
     "output_type": "stream",
     "text": [
      "<class 'pandas.core.frame.DataFrame'>\n",
      "RangeIndex: 130 entries, 0 to 129\n",
      "Data columns (total 3 columns):\n",
      "temperature    130 non-null float64\n",
      "gender         130 non-null object\n",
      "heart_rate     130 non-null float64\n",
      "dtypes: float64(2), object(1)\n",
      "memory usage: 3.1+ KB\n"
     ]
    }
   ],
   "source": [
    "# dimensionality of dataframe\n",
    "df.info()"
   ]
  },
  {
   "cell_type": "markdown",
   "metadata": {},
   "source": [
    "### Q1. Is the distribution of body temperatures normal?"
   ]
  },
  {
   "cell_type": "code",
   "execution_count": 58,
   "metadata": {},
   "outputs": [
    {
     "data": {
      "image/png": "[encoded data removed]",
      "text/plain": [
       "<Figure size 432x288 with 1 Axes>"
      ]
     },
     "metadata": {},
     "output_type": "display_data"
    }
   ],
   "source": [
    "# plot histogram for visual test for normal distribution\n",
    "_ = plt.hist(df['temperature'],bins=50, density=True)\n",
    "_ = plt.xlabel('body temperature ($^\\circ$F)')\n",
    "_ = plt.ylabel('fraction')\n",
    "_ = plt.legend('body temperature', loc='upper right')"
   ]
  },
  {
   "cell_type": "code",
   "execution_count": 59,
   "metadata": {},
   "outputs": [
    {
     "data": {
      "image/png": "[encoded data removed]",
      "text/plain": [
       "<Figure size 432x288 with 1 Axes>"
      ]
     },
     "metadata": {},
     "output_type": "display_data"
    }
   ],
   "source": [
    "# use seaborn to plot histogram\n",
    "_ = sns.distplot(df['temperature'])"
   ]
  },
  {
   "cell_type": "markdown",
   "metadata": {},
   "source": [
    "The histogram of body temperature appears to be normally distributed but we should check with a non-visual approach"
   ]
  },
  {
   "cell_type": "code",
   "execution_count": 60,
   "metadata": {},
   "outputs": [
    {
     "name": "stdout",
     "output_type": "stream",
     "text": [
      "1.0\n",
      "0.9923076923076923\n"
     ]
    }
   ],
   "source": [
    "# compute t-statistic\n",
    "mean_temp = np.mean(df['temperature'])\n",
    "std_temp = np.std(df['temperature'])\n",
    "t_left = mean_temp - 3*std_temp\n",
    "t_right = mean_temp + 3*std_temp\n",
    "\n",
    "# left side\n",
    "print(sum(df['temperature'] > t_left) / len(df['temperature']))\n",
    "# right side\n",
    "print(sum(df['temperature'] < t_right) / len(df['temperature']))"
   ]
  },
  {
   "cell_type": "markdown",
   "metadata": {},
   "source": [
    "According to the 68-95-99.7 rule, body temperature is normally distributed."
   ]
  },
  {
   "cell_type": "code",
   "execution_count": 61,
   "metadata": {},
   "outputs": [
    {
     "name": "stdout",
     "output_type": "stream",
     "text": [
      "chi-square statistic: 2.703801433319203\n",
      "p value = 0.2587479863488254\n"
     ]
    }
   ],
   "source": [
    "# conduct normal test\n",
    "from scipy.stats import normaltest\n",
    "statistic, p_val = normaltest(df['temperature'])\n",
    "\n",
    "print('chi-square statistic:', statistic)\n",
    "print('p value =', p_val)"
   ]
  },
  {
   "cell_type": "markdown",
   "metadata": {},
   "source": [
    "__A1. The data has a normal distribution. This was verified via both graphical and non-visual tests.__"
   ]
  },
  {
   "cell_type": "markdown",
   "metadata": {},
   "source": [
    "### 2. Is the sample size large? Are the observations independent?"
   ]
  },
  {
   "cell_type": "code",
   "execution_count": 62,
   "metadata": {},
   "outputs": [
    {
     "name": "stdout",
     "output_type": "stream",
     "text": [
      "The sample size is large (n > 30)\n"
     ]
    }
   ],
   "source": [
    "# test central limit theorem's sample size condition\n",
    "if len(df) < 30:\n",
    "    print(\"The sample size is too small (n < 30)\")\n",
    "else:\n",
    "    print(\"The sample size is large (n > 30)\")"
   ]
  },
  {
   "cell_type": "code",
   "execution_count": 63,
   "metadata": {},
   "outputs": [
    {
     "data": {
      "text/plain": [
       "M    65\n",
       "F    65\n",
       "Name: gender, dtype: int64"
      ]
     },
     "execution_count": 63,
     "metadata": {},
     "output_type": "execute_result"
    },
    {
     "data": {
      "image/png": "[encoded data removed]",
      "text/plain": [
       "<Figure size 432x288 with 1 Axes>"
      ]
     },
     "metadata": {},
     "output_type": "display_data"
    }
   ],
   "source": [
    "# compute breakdown of 'gender' column to determine independence of observations\n",
    "sns.countplot(df['gender'])\n",
    "df['gender'].value_counts()"
   ]
  },
  {
   "cell_type": "markdown",
   "metadata": {},
   "source": [
    "__A2. The sample size is large enough (n > 30) and the data appears to contain indenpendent observations.__"
   ]
  },
  {
   "cell_type": "markdown",
   "metadata": {},
   "source": [
    "### Q3. Is the true population mean really 98.6 degrees F"
   ]
  },
  {
   "cell_type": "markdown",
   "metadata": {},
   "source": [
    "Is it appropriate to use the t or z statistic?\n",
    "- In this case, the z statistic is more appropriate since the sample size is large (n > 30)."
   ]
  },
  {
   "cell_type": "code",
   "execution_count": 78,
   "metadata": {},
   "outputs": [
    {
     "name": "stdout",
     "output_type": "stream",
     "text": [
      "z statistic:  -5.4548232923645195\n",
      "p value =  4.9021570141012155e-08\n"
     ]
    }
   ],
   "source": [
    "# Bootstrap hypothesis test\n",
    "# Conduct one-sample z-test (comparing one type of samples, temperature, to the single population mean)\n",
    "from statsmodels.stats.weightstats import ztest\n",
    "z_stat, pval_z = ztest(x1 = df['temperature'], value = 98.6)\n",
    "\n",
    "print(\"z statistic: \", z_stat)\n",
    "print(\"p value = \", pval_z)"
   ]
  },
  {
   "cell_type": "code",
   "execution_count": 79,
   "metadata": {},
   "outputs": [
    {
     "name": "stdout",
     "output_type": "stream",
     "text": [
      "t-statistic:  -5.4548232923645195\n",
      "p value =  2.4106320415561276e-07\n"
     ]
    }
   ],
   "source": [
    "# Now try using the other test. How is the result different? Why?\n",
    "from scipy.stats import ttest_1samp\n",
    "t_stat, p_val_t = ttest_1samp(df['temperature'], 98.6)\n",
    "\n",
    "print(\"t-statistic: \", t_stat)\n",
    "print(\"p value = \", p_val_t)"
   ]
  },
  {
   "cell_type": "markdown",
   "metadata": {},
   "source": [
    "The z-statistic and the t-statistic is the same but the p values are different. The p value for the t-statistic is larger than that of the z-statistic."
   ]
  },
  {
   "cell_type": "code",
   "execution_count": 80,
   "metadata": {},
   "outputs": [
    {
     "name": "stdout",
     "output_type": "stream",
     "text": [
      "The null hypothesis (the true population mean is 98.6 degrees F) can be rejected\n"
     ]
    }
   ],
   "source": [
    "# Conduct hypothesis test\n",
    "alpha = 0.05\n",
    "if p_val_z < alpha: \n",
    "    print(\"The null hypothesis (the true population mean is 98.6 degrees F) can be rejected\")\n",
    "else:\n",
    "    print(\"The null hypothesis (the true population mean is 98.6 degrees F) cannot be rejected\")"
   ]
  },
  {
   "cell_type": "markdown",
   "metadata": {},
   "source": [
    "__A3. The true population mean of the body temperature does not appear to be the same as the conventional mean of 98.6 degrees F (p-value < 0.05).__"
   ]
  },
  {
   "cell_type": "markdown",
   "metadata": {},
   "source": [
    "### Q4. Draw a small sample size 10 from the data and repeat both frequentist tests.\n",
    "- Which one is the correct one to use?\n",
    "- What do you notice? What does this tell you about the difference in application of the t and z statistic?"
   ]
  },
  {
   "cell_type": "code",
   "execution_count": 81,
   "metadata": {},
   "outputs": [
    {
     "name": "stdout",
     "output_type": "stream",
     "text": [
      "[98.  98.8 97.8 97.  97.7 98.3 98.  97.9 99.  98. ]\n"
     ]
    }
   ],
   "source": [
    "# Generate random sample\n",
    "np.random.seed(42)\n",
    "sample = np.random.choice(df['temperature'], size=10)\n",
    "print(sample)"
   ]
  },
  {
   "cell_type": "code",
   "execution_count": 82,
   "metadata": {},
   "outputs": [
    {
     "name": "stdout",
     "output_type": "stream",
     "text": [
      "t-statistic:  -3.0934479202257976\n",
      "p value =  0.012857704604809363\n"
     ]
    }
   ],
   "source": [
    "# Conduct one-sample t-test\n",
    "t_stat, p_val_t = ttest_1samp(sample, 98.6)\n",
    "\n",
    "print(\"t-statistic: \", t_stat)\n",
    "print(\"p value = \", p_val_t)"
   ]
  },
  {
   "cell_type": "code",
   "execution_count": 83,
   "metadata": {},
   "outputs": [
    {
     "name": "stdout",
     "output_type": "stream",
     "text": [
      "z-statistic:  -3.0934479202257976\n",
      "p value =  0.0019784527476214603\n"
     ]
    }
   ],
   "source": [
    "# Conduct one-sample z-test\n",
    "z_stat, p_val_z = ztest(x1 = sample, value = 98.6)\n",
    "\n",
    "print(\"z-statistic: \", z_stat)\n",
    "print(\"p value = \", p_val_z)"
   ]
  },
  {
   "cell_type": "markdown",
   "metadata": {},
   "source": [
    "__A4-1. The t-statistic is appropriate to use in this case since the sample size is small (n < 30).__\n",
    "\n",
    "__A4-2. The p value is less than 0.05 for the z-test whereas the opposite is true for the t-test. Relying on the t-test, the null hypothesis can be rejected and the true population temperature mean is the same as the sample mean.__"
   ]
  },
  {
   "cell_type": "markdown",
   "metadata": {},
   "source": [
    "### Q5. At what temperature should we consider someone's temperature to be \"abnormal\"?\n",
    "- Try cacluating everything using the bootstrap approach, as well as the frequentist approach.\n",
    "- Start by computing the margin of error and confidence interval. Keep in mind that you should use the appropriate formula for one draw, and not N draws."
   ]
  },
  {
   "cell_type": "code",
   "execution_count": 84,
   "metadata": {},
   "outputs": [
    {
     "name": "stdout",
     "output_type": "stream",
     "text": [
      "95% confidence interval:  (96.81775582674824, 99.68070571171332)\n"
     ]
    }
   ],
   "source": [
    "# Calculate 95% confidence interval\n",
    "from scipy import stats\n",
    "conf_int = stats.norm.interval(alpha = 0.95, loc = np.mean(df['temperature']), scale = np.std(df['temperature']))\n",
    "\n",
    "print(\"95% confidence interval: \", conf_int)"
   ]
  },
  {
   "cell_type": "markdown",
   "metadata": {},
   "source": [
    "__A5. Body temperature below 96.8 degrees F and above 99.7 degrees F can be considered \"abnormal\"__"
   ]
  },
  {
   "cell_type": "markdown",
   "metadata": {},
   "source": [
    "### Q6. Is there a significant difference between males and females in normal temperature?\n",
    "- What testing approach did you use and why?\n",
    "- Write a story with your conclusion in the context of the original problem."
   ]
  },
  {
   "cell_type": "code",
   "execution_count": 99,
   "metadata": {},
   "outputs": [],
   "source": [
    "# Separate body temperatures of males and females\n",
    "m_temps = df[df['gender'] == 'M'].temperature\n",
    "f_temps = df[df['gender'] == 'F'].temperature"
   ]
  },
  {
   "cell_type": "code",
   "execution_count": 100,
   "metadata": {},
   "outputs": [
    {
     "name": "stdout",
     "output_type": "stream",
     "text": [
      "t-statistic:  -2.2854345381656103\n",
      "p value =  0.02393188312239561\n"
     ]
    }
   ],
   "source": [
    "# Conduct two-sample t-test (comparing difference between two quantities / large sample size (n > 30)\n",
    "from scipy.stats import ttest_ind\n",
    "t_stat, p_val_t = ttest_ind(m_temps, f_temps)\n",
    "\n",
    "print(\"t-statistic: \", t_stat)\n",
    "print(\"p value = \", p_val_t)"
   ]
  },
  {
   "cell_type": "code",
   "execution_count": 101,
   "metadata": {},
   "outputs": [
    {
     "name": "stdout",
     "output_type": "stream",
     "text": [
      "The null hypothesis (no difference in body temp between males and females) can be rejected\n"
     ]
    }
   ],
   "source": [
    "# Conduct hypothesis test\n",
    "alpha = 0.05\n",
    "\n",
    "if p_val_t < alpha:\n",
    "    print(\"The null hypothesis (no difference in body temp between males and females) can be rejected\")\n",
    "else: \n",
    "    print(\"The null hypothesis (no difference in body temp between males and females) cannot be rejected\")"
   ]
  },
  {
   "cell_type": "markdown",
   "metadata": {},
   "source": [
    "__A6. The null hypothesis is rejected (p value < 0.05), hence we can conclude that there is a difference in body temperature between males and females.__\n",
    "\n",
    "***"
   ]
  },
  {
   "cell_type": "markdown",
   "metadata": {},
   "source": [
    "### Conclusion\n",
    "1. Body temperature data has a normal distribution. \n",
    "2. The true population mean of body temperature is not equal to the conventional mean of 98.6 degrees F.\n",
    "3. Body temperature below 96.8 degrees F and above 99.7 degrees F can be considered \"abnormal\".\n",
    "4. There is a statistically significant difference between male and female body temperatures."
   ]
  },
  {
   "cell_type": "code",
   "execution_count": null,
   "metadata": {},
   "outputs": [],
   "source": []
  }
 ],
 "metadata": {
  "kernelspec": {
   "display_name": "Python 3",
   "language": "python",
   "name": "python3"
  },
  "language_info": {
   "codemirror_mode": {
    "name": "ipython",
    "version": 3
   },
   "file_extension": ".py",
   "mimetype": "text/x-python",
   "name": "python",
   "nbconvert_exporter": "python",
   "pygments_lexer": "ipython3",
   "version": "3.7.0"
  }
 },
 "nbformat": 4,
 "nbformat_minor": 1
}
